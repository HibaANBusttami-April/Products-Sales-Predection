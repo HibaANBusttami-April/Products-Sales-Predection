{
  "nbformat": 4,
  "nbformat_minor": 0,
  "metadata": {
    "colab": {
      "provenance": [],
      "authorship_tag": "ABX9TyOXs7MjKOjiv51GAyH2rgRa",
      "include_colab_link": true
    },
    "kernelspec": {
      "name": "python3",
      "display_name": "Python 3"
    },
    "language_info": {
      "name": "python"
    }
  },
  "cells": [
    {
      "cell_type": "markdown",
      "metadata": {
        "id": "view-in-github",
        "colab_type": "text"
      },
      "source": [
        "<a href=\"https://colab.research.google.com/github/HibaANBusttami-April/HibaANBusttami-April/blob/main/Prediction_of_Product_Sales.ipynb\" target=\"_parent\"><img src=\"https://colab.research.google.com/assets/colab-badge.svg\" alt=\"Open In Colab\"/></a>"
      ]
    },
    {
      "cell_type": "markdown",
      "source": [
        "# Prediction of Product Sales\n",
        "- Hiba A. N. Busttami (April)\n"
      ],
      "metadata": {
        "id": "ss5loOEXUMLo"
      }
    },
    {
      "cell_type": "code",
      "execution_count": 1,
      "metadata": {
        "id": "QstkadFpRjmA"
      },
      "outputs": [],
      "source": [
        "\n"
      ]
    },
    {
      "cell_type": "markdown",
      "source": [
        "## Project Overview\n"
      ],
      "metadata": {
        "id": "RHc2lHBkU3jJ"
      }
    },
    {
      "cell_type": "markdown",
      "source": [
        "## Load and Inspect Data"
      ],
      "metadata": {
        "id": "hae3YFicU-Z8"
      }
    },
    {
      "cell_type": "code",
      "source": [],
      "metadata": {
        "id": "LiuzvGP-TplD"
      },
      "execution_count": null,
      "outputs": []
    },
    {
      "cell_type": "markdown",
      "source": [
        "## Clean Data"
      ],
      "metadata": {
        "id": "KjegqvPzVI2c"
      }
    },
    {
      "cell_type": "code",
      "source": [],
      "metadata": {
        "id": "kbmE017CTpzT"
      },
      "execution_count": null,
      "outputs": []
    },
    {
      "cell_type": "markdown",
      "source": [
        "## Exploratory Data Analysis"
      ],
      "metadata": {
        "id": "UjyR0zNlVO1U"
      }
    },
    {
      "cell_type": "code",
      "source": [],
      "metadata": {
        "id": "Em9J3ImaTqB4"
      },
      "execution_count": null,
      "outputs": []
    },
    {
      "cell_type": "markdown",
      "source": [
        "## Feature Inspection"
      ],
      "metadata": {
        "id": "nT0IHhanVYEG"
      }
    },
    {
      "cell_type": "code",
      "source": [],
      "metadata": {
        "id": "8fsotgUuTwf2"
      },
      "execution_count": null,
      "outputs": []
    }
  ]
}