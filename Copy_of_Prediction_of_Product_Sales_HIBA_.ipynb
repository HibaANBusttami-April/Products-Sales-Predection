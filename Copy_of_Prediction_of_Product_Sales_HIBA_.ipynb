{
  "nbformat": 4,
  "nbformat_minor": 0,
  "metadata": {
    "colab": {
      "provenance": [],
      "authorship_tag": "ABX9TyMxkGVu08cVvSEXL6dKuGZU",
      "include_colab_link": true
    },
    "kernelspec": {
      "name": "python3",
      "display_name": "Python 3"
    },
    "language_info": {
      "name": "python"
    }
  },
  "cells": [
    {
      "cell_type": "markdown",
      "metadata": {
        "id": "view-in-github",
        "colab_type": "text"
      },
      "source": [
        "<a href=\"https://colab.research.google.com/github/HibaANBusttami-April/HibaANBusttami-April/blob/main/Copy_of_Prediction_of_Product_Sales_HIBA_.ipynb\" target=\"_parent\"><img src=\"https://colab.research.google.com/assets/colab-badge.svg\" alt=\"Open In Colab\"/></a>"
      ]
    },
    {
      "cell_type": "markdown",
      "source": [
        "# Prediction of Product Sales\n",
        "- Hiba A. N. Busttami (April)\n"
      ],
      "metadata": {
        "id": "ss5loOEXUMLo"
      }
    },
    {
      "cell_type": "markdown",
      "source": [
        "## Project Overview\n"
      ],
      "metadata": {
        "id": "RHc2lHBkU3jJ"
      }
    },
    {
      "cell_type": "markdown",
      "source": [
        "## Load and Inspect Data"
      ],
      "metadata": {
        "id": "hae3YFicU-Z8"
      }
    },
    {
      "cell_type": "code",
      "source": [
        "from google.colab import drive\n",
        "drive.mount('/content/drive')\n",
        "# Import required packages\n",
        "import pandas as pd"
      ],
      "metadata": {
        "id": "LiuzvGP-TplD",
        "outputId": "7b7c7cc4-e590-49ed-d882-f76f6bd1b634",
        "colab": {
          "base_uri": "https://localhost:8080/"
        }
      },
      "execution_count": null,
      "outputs": [
        {
          "output_type": "stream",
          "name": "stdout",
          "text": [
            "Mounted at /content/drive\n"
          ]
        }
      ]
    },
    {
      "cell_type": "code",
      "source": [
        "# Save the filepath and load the data as \"df\"\n",
        "data=\"/content/drive/MyDrive/CodingDojo/01-Fundamentals/Week02/Data/sales_predictions_2023.csv\"\n",
        "# read the data\n",
        "df= pd.read_csv(data)\n",
        "# Display the first few rows of the dataframe to ensure it's loaded correctly\n",
        "df.head()\n",
        "df.info()"
      ],
      "metadata": {
        "id": "3oSqIOLMWc62",
        "outputId": "9ed6c052-76a1-4ea0-a81d-5fcc69338b4f",
        "colab": {
          "base_uri": "https://localhost:8080/"
        }
      },
      "execution_count": null,
      "outputs": [
        {
          "output_type": "stream",
          "name": "stdout",
          "text": [
            "<class 'pandas.core.frame.DataFrame'>\n",
            "RangeIndex: 8523 entries, 0 to 8522\n",
            "Data columns (total 12 columns):\n",
            " #   Column                     Non-Null Count  Dtype  \n",
            "---  ------                     --------------  -----  \n",
            " 0   Item_Identifier            8523 non-null   object \n",
            " 1   Item_Weight                7060 non-null   float64\n",
            " 2   Item_Fat_Content           8523 non-null   object \n",
            " 3   Item_Visibility            8523 non-null   float64\n",
            " 4   Item_Type                  8523 non-null   object \n",
            " 5   Item_MRP                   8523 non-null   float64\n",
            " 6   Outlet_Identifier          8523 non-null   object \n",
            " 7   Outlet_Establishment_Year  8523 non-null   int64  \n",
            " 8   Outlet_Size                6113 non-null   object \n",
            " 9   Outlet_Location_Type       8523 non-null   object \n",
            " 10  Outlet_Type                8523 non-null   object \n",
            " 11  Item_Outlet_Sales          8523 non-null   float64\n",
            "dtypes: float64(4), int64(1), object(7)\n",
            "memory usage: 799.2+ KB\n"
          ]
        }
      ]
    },
    {
      "cell_type": "markdown",
      "source": [
        "## Clean Data"
      ],
      "metadata": {
        "id": "KjegqvPzVI2c"
      }
    },
    {
      "cell_type": "markdown",
      "source": [
        "-  **How many rows and columns?**\n",
        " - We have 8523 rows and 12 columns"
      ],
      "metadata": {
        "id": "aWHgwDg-XQVf"
      }
    },
    {
      "cell_type": "code",
      "source": [
        "# Get the shape of the DataFrame\n",
        "df_shape = df.shape\n",
        "print(\"Shape of the DataFrame:\", df_shape)\n"
      ],
      "metadata": {
        "id": "kbmE017CTpzT",
        "outputId": "039cd5a1-3135-457c-8669-90fca6ee9cd5",
        "colab": {
          "base_uri": "https://localhost:8080/"
        }
      },
      "execution_count": null,
      "outputs": [
        {
          "output_type": "stream",
          "name": "stdout",
          "text": [
            "Shape of the DataFrame: (8523, 12)\n"
          ]
        }
      ]
    },
    {
      "cell_type": "code",
      "source": [
        "# Get the datatypes of each column\n",
        "column_dtypes = df.dtypes\n",
        "print(\"Datatypes of each column:\")\n",
        "print(column_dtypes)\n"
      ],
      "metadata": {
        "id": "9ruNZq_XYJbK",
        "outputId": "8152a0a5-72b0-4100-be2f-c8e97ee27f65",
        "colab": {
          "base_uri": "https://localhost:8080/"
        }
      },
      "execution_count": null,
      "outputs": [
        {
          "output_type": "stream",
          "name": "stdout",
          "text": [
            "Datatypes of each column:\n",
            "Item_Identifier               object\n",
            "Item_Weight                  float64\n",
            "Item_Fat_Content              object\n",
            "Item_Visibility              float64\n",
            "Item_Type                     object\n",
            "Item_MRP                     float64\n",
            "Outlet_Identifier             object\n",
            "Outlet_Establishment_Year      int64\n",
            "Outlet_Size                   object\n",
            "Outlet_Location_Type          object\n",
            "Outlet_Type                   object\n",
            "Item_Outlet_Sales            float64\n",
            "dtype: object\n"
          ]
        }
      ]
    },
    {
      "cell_type": "markdown",
      "source": [
        "- **What are the datatypes of each variable?**\n",
        "\n",
        " - **Item_Identifier**  :               *object*\n",
        " - **Item_Weight**  :                  *float64*\n",
        " - **Item_Fat_Content**  :              *object*\n",
        " - **Item_Visibility**  :              *float64*\n",
        " - **Item_Type**  :                     *object*\n",
        " - **Item_MRP**  :                     *float64*\n",
        " - **Outlet_Identifier**  :             *object*\n",
        " - **Outlet_Establishment_Year**  :      *int64*\n",
        " - **Outlet_Size**  :                   *object*\n",
        " - **Outlet_Location_Type**  :          *object*\n",
        " - **Outlet_Type**  :                   *object*\n",
        " - **Item_Outlet_Sales**  :            *float64*"
      ],
      "metadata": {
        "id": "qV9hmul8YA0K"
      }
    },
    {
      "cell_type": "markdown",
      "source": [
        "- Are there duplicates? If so, drop any duplicates ?"
      ],
      "metadata": {
        "id": "7AumITwSaMLF"
      }
    },
    {
      "cell_type": "code",
      "source": [
        "# Check for duplicate rows\n",
        "duplicates = df.duplicated().sum()\n",
        "print(\"Number of duplicate rows:\", duplicates)\n",
        "# Drop duplicate rows\n",
        "df_cleaned = df.drop_duplicates()\n",
        "\n",
        "# Verify that duplicates have been removed\n",
        "new_duplicates = df_cleaned.duplicated().sum()\n",
        "print(\"Number of duplicate rows after dropping:\", new_duplicates)\n",
        "\n"
      ],
      "metadata": {
        "colab": {
          "base_uri": "https://localhost:8080/"
        },
        "id": "6K9dcsanaasG",
        "outputId": "a7fd0ecf-d38f-42cb-9529-78edc0ce13b9"
      },
      "execution_count": null,
      "outputs": [
        {
          "output_type": "stream",
          "name": "stdout",
          "text": [
            "Number of duplicate rows: 0\n",
            "Number of duplicate rows after dropping: 0\n"
          ]
        }
      ]
    },
    {
      "cell_type": "markdown",
      "source": [
        "- Identify missing values."
      ],
      "metadata": {
        "id": "I3xx6UGNcAga"
      }
    },
    {
      "cell_type": "code",
      "source": [
        "# Check for missing values in each column\n",
        "missing_values = df.isnull().sum()\n",
        "print(\"Missing values in each column:\")\n",
        "print(missing_values)\n"
      ],
      "metadata": {
        "colab": {
          "base_uri": "https://localhost:8080/"
        },
        "id": "N-4QjkCxcxT1",
        "outputId": "204b82f7-2abe-4bf8-d523-f8e9b8c8d95b"
      },
      "execution_count": null,
      "outputs": [
        {
          "output_type": "stream",
          "name": "stdout",
          "text": [
            "Missing values in each column:\n",
            "Item_Identifier              0\n",
            "Item_Weight                  0\n",
            "Item_Fat_Content             0\n",
            "Item_Visibility              0\n",
            "Item_Type                    0\n",
            "Item_MRP                     0\n",
            "Outlet_Identifier            0\n",
            "Outlet_Establishment_Year    0\n",
            "Outlet_Size                  0\n",
            "Outlet_Location_Type         0\n",
            "Outlet_Type                  0\n",
            "Item_Outlet_Sales            0\n",
            "dtype: int64\n"
          ]
        }
      ]
    },
    {
      "cell_type": "code",
      "source": [
        "# List of numeric column names\n",
        "numeric_columns = df.select_dtypes(include=['number']).columns.tolist()\n",
        "print(numeric_columns)"
      ],
      "metadata": {
        "colab": {
          "base_uri": "https://localhost:8080/"
        },
        "id": "MhcGAQkNePo7",
        "outputId": "857a1ee4-cf30-4d45-b8ee-3f6daaad19ae"
      },
      "execution_count": null,
      "outputs": [
        {
          "output_type": "stream",
          "name": "stdout",
          "text": [
            "['Item_Weight', 'Item_Visibility', 'Item_MRP', 'Outlet_Establishment_Year', 'Item_Outlet_Sales']\n"
          ]
        }
      ]
    },
    {
      "cell_type": "code",
      "source": [
        "#calculate the mean to use it as a place holder in Item weight column\n",
        "mean=df[\"Item_Weight\"].mean()\n",
        "df[\"Item_Weight\"] = df[\"Item_Weight\"].fillna(mean)\n",
        "# Verify that null values have been filled\n",
        "print(df[numeric_columns].isnull().sum())"
      ],
      "metadata": {
        "colab": {
          "base_uri": "https://localhost:8080/"
        },
        "id": "aV1qOPO-fsyB",
        "outputId": "8ee9c806-0f47-4f96-9a0d-e1d9c1481ff6"
      },
      "execution_count": null,
      "outputs": [
        {
          "output_type": "stream",
          "name": "stdout",
          "text": [
            "Item_Weight                  0\n",
            "Item_Visibility              0\n",
            "Item_MRP                     0\n",
            "Outlet_Establishment_Year    0\n",
            "Item_Outlet_Sales            0\n",
            "dtype: int64\n"
          ]
        }
      ]
    },
    {
      "cell_type": "code",
      "source": [
        "# Get a list of categorical column names\n",
        "categorical_columns = df.select_dtypes(include=['object']).columns.tolist()\n",
        "\n",
        "# Print the list of categorical columns\n",
        "print(categorical_columns)"
      ],
      "metadata": {
        "colab": {
          "base_uri": "https://localhost:8080/"
        },
        "id": "zDIK0CMTeVF9",
        "outputId": "abb7402c-361c-4ced-e6b0-cf765e1d71a6"
      },
      "execution_count": null,
      "outputs": [
        {
          "output_type": "stream",
          "name": "stdout",
          "text": [
            "['Item_Identifier', 'Item_Fat_Content', 'Item_Type', 'Outlet_Identifier', 'Outlet_Size', 'Outlet_Location_Type', 'Outlet_Type']\n"
          ]
        }
      ]
    },
    {
      "cell_type": "code",
      "source": [
        "# Fill null values in categorical columns with 'MISSING'\n",
        "df[categorical_columns] = df[categorical_columns].fillna('MISSING')\n",
        "\n",
        "# Verify that null values have been filled\n",
        "print(df[categorical_columns].isnull().sum())"
      ],
      "metadata": {
        "colab": {
          "base_uri": "https://localhost:8080/"
        },
        "id": "LaELXCixe9rF",
        "outputId": "caeb0b20-d299-4cdd-8bd4-41f5ac137e16"
      },
      "execution_count": null,
      "outputs": [
        {
          "output_type": "stream",
          "name": "stdout",
          "text": [
            "Item_Identifier         0\n",
            "Item_Fat_Content        0\n",
            "Item_Type               0\n",
            "Outlet_Identifier       0\n",
            "Outlet_Size             0\n",
            "Outlet_Location_Type    0\n",
            "Outlet_Type             0\n",
            "dtype: int64\n"
          ]
        }
      ]
    },
    {
      "cell_type": "markdown",
      "source": [
        " - Find and fix any inconsistent categories of data (for example: fix cat, Cat, and cats so that they are consistent)."
      ],
      "metadata": {
        "id": "nuH6574KgJGz"
      }
    },
    {
      "cell_type": "code",
      "source": [
        "# Iterate through each column and print unique values\n",
        "for column in df.columns:\n",
        "    value_counts = df[column].value_counts()\n",
        "    print(f\"Unique values in column '{column}':\")\n",
        "    print(value_counts)\n"
      ],
      "metadata": {
        "colab": {
          "base_uri": "https://localhost:8080/"
        },
        "id": "UQYVfyEOgPLP",
        "outputId": "65609a50-1cdf-4e62-d2c8-520ec105635d"
      },
      "execution_count": null,
      "outputs": [
        {
          "output_type": "stream",
          "name": "stdout",
          "text": [
            "Unique values in column 'Item_Identifier':\n",
            "Item_Identifier\n",
            "FDW13    10\n",
            "FDG33    10\n",
            "NCY18     9\n",
            "FDD38     9\n",
            "DRE49     9\n",
            "         ..\n",
            "FDY43     1\n",
            "FDQ60     1\n",
            "FDO33     1\n",
            "DRF48     1\n",
            "FDC23     1\n",
            "Name: count, Length: 1559, dtype: int64\n",
            "Unique values in column 'Item_Weight':\n",
            "Item_Weight\n",
            "-1.000     1463\n",
            " 12.150      86\n",
            " 17.600      82\n",
            " 13.650      77\n",
            " 11.800      76\n",
            "           ... \n",
            " 7.275        2\n",
            " 7.685        1\n",
            " 9.420        1\n",
            " 6.520        1\n",
            " 5.400        1\n",
            "Name: count, Length: 416, dtype: int64\n",
            "Unique values in column 'Item_Fat_Content':\n",
            "Item_Fat_Content\n",
            "Low Fat    5089\n",
            "Regular    2889\n",
            "LF          316\n",
            "reg         117\n",
            "low fat     112\n",
            "Name: count, dtype: int64\n",
            "Unique values in column 'Item_Visibility':\n",
            "Item_Visibility\n",
            "0.000000    526\n",
            "0.076975      3\n",
            "0.162462      2\n",
            "0.076841      2\n",
            "0.073562      2\n",
            "           ... \n",
            "0.013957      1\n",
            "0.110460      1\n",
            "0.124646      1\n",
            "0.054142      1\n",
            "0.044878      1\n",
            "Name: count, Length: 7880, dtype: int64\n",
            "Unique values in column 'Item_Type':\n",
            "Item_Type\n",
            "Fruits and Vegetables    1232\n",
            "Snack Foods              1200\n",
            "Household                 910\n",
            "Frozen Foods              856\n",
            "Dairy                     682\n",
            "Canned                    649\n",
            "Baking Goods              648\n",
            "Health and Hygiene        520\n",
            "Soft Drinks               445\n",
            "Meat                      425\n",
            "Breads                    251\n",
            "Hard Drinks               214\n",
            "Others                    169\n",
            "Starchy Foods             148\n",
            "Breakfast                 110\n",
            "Seafood                    64\n",
            "Name: count, dtype: int64\n",
            "Unique values in column 'Item_MRP':\n",
            "Item_MRP\n",
            "172.0422    7\n",
            "170.5422    6\n",
            "196.5084    6\n",
            "188.1872    6\n",
            "142.0154    6\n",
            "           ..\n",
            "97.3384     1\n",
            "83.1934     1\n",
            "96.6752     1\n",
            "152.6682    1\n",
            "75.4670     1\n",
            "Name: count, Length: 5938, dtype: int64\n",
            "Unique values in column 'Outlet_Identifier':\n",
            "Outlet_Identifier\n",
            "OUT027    935\n",
            "OUT013    932\n",
            "OUT049    930\n",
            "OUT046    930\n",
            "OUT035    930\n",
            "OUT045    929\n",
            "OUT018    928\n",
            "OUT017    926\n",
            "OUT010    555\n",
            "OUT019    528\n",
            "Name: count, dtype: int64\n",
            "Unique values in column 'Outlet_Establishment_Year':\n",
            "Outlet_Establishment_Year\n",
            "1985    1463\n",
            "1987     932\n",
            "1999     930\n",
            "1997     930\n",
            "2004     930\n",
            "2002     929\n",
            "2009     928\n",
            "2007     926\n",
            "1998     555\n",
            "Name: count, dtype: int64\n",
            "Unique values in column 'Outlet_Size':\n",
            "Outlet_Size\n",
            "Medium     2793\n",
            "MISSING    2410\n",
            "Small      2388\n",
            "High        932\n",
            "Name: count, dtype: int64\n",
            "Unique values in column 'Outlet_Location_Type':\n",
            "Outlet_Location_Type\n",
            "Tier 3    3350\n",
            "Tier 2    2785\n",
            "Tier 1    2388\n",
            "Name: count, dtype: int64\n",
            "Unique values in column 'Outlet_Type':\n",
            "Outlet_Type\n",
            "Supermarket Type1    5577\n",
            "Grocery Store        1083\n",
            "Supermarket Type3     935\n",
            "Supermarket Type2     928\n",
            "Name: count, dtype: int64\n",
            "Unique values in column 'Item_Outlet_Sales':\n",
            "Item_Outlet_Sales\n",
            "958.7520     17\n",
            "1342.2528    16\n",
            "703.0848     15\n",
            "1845.5976    15\n",
            "1278.3360    14\n",
            "             ..\n",
            "4124.6310     1\n",
            "6622.7126     1\n",
            "1614.5650     1\n",
            "5602.7070     1\n",
            "2778.3834     1\n",
            "Name: count, Length: 3493, dtype: int64\n"
          ]
        }
      ]
    },
    {
      "cell_type": "code",
      "source": [
        "# Define the data as a dictionary\n",
        "newfat_content_dict = {\n",
        "    'LF': 'Low Fat',\n",
        "    'reg': 'Regular',\n",
        "    'low fat':'Low Fat'\n",
        "}\n",
        "# Replace inconsistent values using the dictionary\n",
        "df['Item_Fat_Content'] = df['Item_Fat_Content'].replace(newfat_content_dict)\n",
        "# Verify the changes\n",
        "print(\"DataFrame after standardizing 'Fat_Content':\")\n",
        "value_countsfat = df[\"Item_Fat_Content\"].value_counts()\n",
        "print(value_countsfat)"
      ],
      "metadata": {
        "colab": {
          "base_uri": "https://localhost:8080/"
        },
        "id": "9N-T1VZKlAmG",
        "outputId": "a9e58835-0f06-40d1-ab71-dea2c46f9db1"
      },
      "execution_count": null,
      "outputs": [
        {
          "output_type": "stream",
          "name": "stdout",
          "text": [
            "DataFrame after standardizing 'Fat_Content':\n",
            "Item_Fat_Content\n",
            "Low Fat    5517\n",
            "Regular    3006\n",
            "Name: count, dtype: int64\n"
          ]
        }
      ]
    },
    {
      "cell_type": "markdown",
      "source": [],
      "metadata": {
        "id": "0QP7RnGfmyTY"
      }
    },
    {
      "cell_type": "code",
      "source": [
        "# Get summary statistics for numerical columns\n",
        "summary_stats = df.describe(include=[float, int])\n",
        "print(\"Summary statistics for numerical columns:\")\n",
        "print(summary_stats)\n"
      ],
      "metadata": {
        "colab": {
          "base_uri": "https://localhost:8080/"
        },
        "id": "cn7z6fVAmzO_",
        "outputId": "5bc8f645-0e87-40e0-d603-6073e818cf5a"
      },
      "execution_count": null,
      "outputs": [
        {
          "output_type": "stream",
          "name": "stdout",
          "text": [
            "Summary statistics for numerical columns:\n",
            "       Item_Weight  Item_Visibility     Item_MRP  Outlet_Establishment_Year  \\\n",
            "count  8523.000000      8523.000000  8523.000000                8523.000000   \n",
            "mean     10.478936         0.066132   140.992782                1997.831867   \n",
            "std       6.720742         0.051598    62.275067                   8.371760   \n",
            "min      -1.000000         0.000000    31.290000                1985.000000   \n",
            "25%       6.650000         0.026989    93.826500                1987.000000   \n",
            "50%      11.000000         0.053931   143.012800                1999.000000   \n",
            "75%      16.000000         0.094585   185.643700                2004.000000   \n",
            "max      21.350000         0.328391   266.888400                2009.000000   \n",
            "\n",
            "       Item_Outlet_Sales  \n",
            "count        8523.000000  \n",
            "mean         2181.288914  \n",
            "std          1706.499616  \n",
            "min            33.290000  \n",
            "25%           834.247400  \n",
            "50%          1794.331000  \n",
            "75%          3101.296400  \n",
            "max         13086.964800  \n"
          ]
        }
      ]
    },
    {
      "cell_type": "markdown",
      "source": [
        "## Exploratory Data Analysis"
      ],
      "metadata": {
        "id": "UjyR0zNlVO1U"
      }
    },
    {
      "cell_type": "code",
      "source": [],
      "metadata": {
        "id": "Em9J3ImaTqB4"
      },
      "execution_count": null,
      "outputs": []
    },
    {
      "cell_type": "markdown",
      "source": [
        "## Feature Inspection"
      ],
      "metadata": {
        "id": "nT0IHhanVYEG"
      }
    },
    {
      "cell_type": "code",
      "source": [],
      "metadata": {
        "id": "8fsotgUuTwf2"
      },
      "execution_count": null,
      "outputs": []
    }
  ]
}